{
 "cells": [
  {
   "cell_type": "code",
   "execution_count": 1,
   "metadata": {},
   "outputs": [],
   "source": [
    "import os\n",
    "import glob\n",
    "import shutil\n",
    "import random\n",
    "from tqdm import tqdm"
   ]
  },
  {
   "cell_type": "code",
   "execution_count": 4,
   "metadata": {},
   "outputs": [
    {
     "name": "stderr",
     "output_type": "stream",
     "text": [
      "0it [00:00, ?it/s]\n",
      "100%|██████████| 1384/1384 [00:00<00:00, 3140.43it/s]\n",
      "100%|██████████| 10257/10257 [00:03<00:00, 3185.22it/s]\n",
      "100%|██████████| 832/832 [00:00<00:00, 2975.48it/s]\n",
      "100%|██████████| 3242/3242 [00:01<00:00, 2921.89it/s]\n",
      "100%|██████████| 1012/1012 [00:00<00:00, 3239.85it/s]\n",
      "100%|██████████| 624/624 [00:00<00:00, 2904.95it/s]\n",
      "100%|██████████| 6193/6193 [00:02<00:00, 2803.49it/s]\n",
      "100%|██████████| 387/387 [00:00<00:00, 2163.75it/s]\n",
      "100%|██████████| 1738/1738 [00:00<00:00, 2899.32it/s]\n",
      "100%|██████████| 3605/3605 [00:01<00:00, 2825.42it/s]\n",
      "100%|██████████| 8884/8884 [00:03<00:00, 2901.42it/s]\n",
      "100%|██████████| 382/382 [00:00<00:00, 4184.78it/s]\n",
      "100%|██████████| 1502/1502 [00:00<00:00, 3284.37it/s]\n",
      "100%|██████████| 752/752 [00:00<00:00, 2768.97it/s]\n",
      "100%|██████████| 522/522 [00:00<00:00, 4044.41it/s]\n",
      "100%|██████████| 1132/1132 [00:00<00:00, 3248.52it/s]\n",
      "100%|██████████| 8728/8728 [00:02<00:00, 3028.47it/s]\n",
      "100%|██████████| 739/739 [00:00<00:00, 2977.30it/s]\n",
      "100%|██████████| 681/681 [00:00<00:00, 3708.38it/s]\n",
      "100%|██████████| 736/736 [00:00<00:00, 3116.86it/s]\n",
      "100%|██████████| 1114/1114 [00:00<00:00, 2938.09it/s]\n",
      "100%|██████████| 679/679 [00:00<00:00, 3197.16it/s]\n",
      "100%|██████████| 1069/1069 [00:00<00:00, 3058.43it/s]\n",
      "100%|██████████| 6162/6162 [00:02<00:00, 2989.69it/s]\n",
      "100%|██████████| 642/642 [00:00<00:00, 3470.16it/s]\n",
      "100%|██████████| 736/736 [00:00<00:00, 3308.78it/s]\n",
      "100%|██████████| 1648/1648 [00:00<00:00, 3158.61it/s]\n",
      "100%|██████████| 399/399 [00:00<00:00, 4102.74it/s]\n",
      "100%|██████████| 6175/6175 [00:01<00:00, 3139.78it/s]\n",
      "100%|██████████| 1246/1246 [00:00<00:00, 3190.66it/s]\n",
      "100%|██████████| 987/987 [00:00<00:00, 3057.79it/s]\n",
      "100%|██████████| 704/704 [00:00<00:00, 3321.74it/s]\n",
      "100%|██████████| 4410/4410 [00:01<00:00, 2950.48it/s]\n",
      "100%|██████████| 665/665 [00:00<00:00, 3337.28it/s]\n",
      "100%|██████████| 1648/1648 [00:00<00:00, 3174.31it/s]\n",
      "100%|██████████| 1393/1393 [00:00<00:00, 3212.86it/s]\n",
      "100%|██████████| 1889/1889 [00:00<00:00, 2750.67it/s]\n"
     ]
    }
   ],
   "source": [
    "raw_data = '/Users/thispc/Development/Driver-Drowsiness-Detection-using-Deep-Learning-main/mrlEyes_2018_01'\n",
    "for dirpath, dirname, filename in os.walk(raw_data):\n",
    "    for file in tqdm([f for f in filename if f.endswith('.png')]):\n",
    "        if file.split('_')[4] == '0':\n",
    "            path='/Users/thispc/Development/Driver-Drowsiness-Detection-using-Deep-Learning-main/Prepared_Data/train/ClosedEyes'\n",
    "            if not os.path.exists(path):\n",
    "                os.makedirs(path)\n",
    "            shutil.copy(src=dirpath + '/' + file, dst= path)\n",
    "        elif file.split('_')[4] == '1':\n",
    "            path='/Users/thispc/Development/Driver-Drowsiness-Detection-using-Deep-Learning-main/Prepared_Data/train/OpenEyes'\n",
    "            if not os.path.exists(path):\n",
    "                os.makedirs(path)\n",
    "            shutil.copy(src=dirpath + '/' + file, dst= path)        "
   ]
  },
  {
   "cell_type": "code",
   "execution_count": 5,
   "metadata": {},
   "outputs": [],
   "source": [
    "def create_test_closed(source, destination, percent):\n",
    "    '''\n",
    "    divides closed eyes images into given percent and moves from\n",
    "    source to destination.\n",
    "    \n",
    "    Arguments:\n",
    "    source(path): path of source directory\n",
    "    destination(path): path of destination directory\n",
    "    percent(float): percent of data to be divided(range: 0 to 1)\n",
    "    '''\n",
    "    path, dirs, files_closed = next(os.walk(source))\n",
    "    file_count_closed = len(files_closed)\n",
    "    percentage = file_count_closed * percent\n",
    "    to_move = random.sample(glob.glob(source + \"/*.png\"), int(percentage))\n",
    "\n",
    "    for f in enumerate(to_move):\n",
    "        if not os.path.exists(destination):\n",
    "            os.makedirs(destination)\n",
    "        shutil.move(f[1], destination)\n",
    "    print(f'moved {int(percentage)} images to the destination successfully.')    "
   ]
  },
  {
   "cell_type": "code",
   "execution_count": 6,
   "metadata": {},
   "outputs": [],
   "source": [
    "def create_test_open(source, destination, percent):\n",
    "    '''\n",
    "    divides open eyes images into given percent and moves from\n",
    "    source to destination.\n",
    "    \n",
    "    Arguments:\n",
    "    source(path): path of source directory\n",
    "    destination(path): path of destination directory\n",
    "    percent(float): percent of data to be divided(range: 0 to 1)\n",
    "    '''\n",
    "    path, dirs, files_open = next(os.walk(source))\n",
    "    file_count_open = len(files_open)\n",
    "    percentage = file_count_open * percent\n",
    "    to_move = random.sample(glob.glob(source + \"/*.png\"), int(percentage))\n",
    "\n",
    "    for f in enumerate(to_move):\n",
    "        if not os.path.exists(destination):\n",
    "            os.makedirs(destination)\n",
    "        shutil.move(f[1], destination)\n",
    "    print(f'moved {int(percentage)} images to the destination successfully.')"
   ]
  },
  {
   "cell_type": "code",
   "execution_count": 7,
   "metadata": {},
   "outputs": [
    {
     "name": "stdout",
     "output_type": "stream",
     "text": [
      "moved 8389 images to the destination successfully.\n"
     ]
    }
   ],
   "source": [
    "create_test_closed('/Users/thispc/Development/Driver-Drowsiness-Detection-using-Deep-Learning-main/Prepared_Data/train/ClosedEyes', \n",
    "                    '/Users/thispc/Development/Driver-Drowsiness-Detection-using-Deep-Learning-main/Prepared_Data/test/ClosedEyes', \n",
    "                    0.2)"
   ]
  },
  {
   "cell_type": "code",
   "execution_count": 8,
   "metadata": {},
   "outputs": [
    {
     "name": "stdout",
     "output_type": "stream",
     "text": [
      "moved 8590 images to the destination successfully.\n"
     ]
    }
   ],
   "source": [
    "create_test_open('/Users/thispc/Development/Driver-Drowsiness-Detection-using-Deep-Learning-main/Prepared_Data/train/OpenEyes', \n",
    "                    '/Users/thispc/Development/Driver-Drowsiness-Detection-using-Deep-Learning-main/Prepared_Data/test/OpenEyes', \n",
    "                    0.2)"
   ]
  },
  {
   "cell_type": "code",
   "execution_count": null,
   "metadata": {},
   "outputs": [],
   "source": []
  }
 ],
 "metadata": {
  "kernelspec": {
   "display_name": "Python 3",
   "language": "python",
   "name": "python3"
  },
  "language_info": {
   "codemirror_mode": {
    "name": "ipython",
    "version": 3
   },
   "file_extension": ".py",
   "mimetype": "text/x-python",
   "name": "python",
   "nbconvert_exporter": "python",
   "pygments_lexer": "ipython3",
   "version": "3.1.undefined"
  }
 },
 "nbformat": 4,
 "nbformat_minor": 4
}
