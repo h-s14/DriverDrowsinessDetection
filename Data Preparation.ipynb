{
 "cells": [
  {
   "cell_type": "code",
   "execution_count": 1,
   "metadata": {},
   "outputs": [],
   "source": [
    "import os\n",
    "import shutil\n",
    "import glob\n",
    "from tqdm import tqdm"
   ]
  },
  {
   "cell_type": "markdown",
   "metadata": {},
   "source": [
    "#\n",
    "subject ID:\n",
    "xxx\n",
    "\n",
    "image number:\n",
    "xxx\n",
    "\n",
    "gender:\n",
    "0 - male\n",
    "1 - famale\n",
    "\n",
    "glasses:\n",
    "0 - no\n",
    "1 - yes\n",
    "\n",
    "eye state:\n",
    "0 - close\n",
    "1 - open\n",
    "\n",
    "reflections:\n",
    "0 - none\n",
    "1 - low\n",
    "2 - high\n",
    "\n",
    "lighting conditions/image quality:\n",
    "0 - bad\n",
    "1 - good\n",
    "\n",
    "sensor type:\n",
    "01 - RealSense SR300 640x480\n",
    "02 - IDS Imaging, 1280x1024\n",
    "03 - Aptina Imagin 752x480\n",
    "\n",
    "example:\n",
    "s001_00123_0_0_0_0_0_01.png"
   ]
  },
  {
   "cell_type": "code",
   "execution_count": 2,
   "metadata": {},
   "outputs": [
    {
     "name": "stderr",
     "output_type": "stream",
     "text": [
      "0it [00:00, ?it/s]"
     ]
    },
    {
     "name": "stderr",
     "output_type": "stream",
     "text": [
      "0it [00:00, ?it/s]\n",
      "100%|██████████| 1384/1384 [00:00<00:00, 3896.37it/s]\n",
      "100%|██████████| 10257/10257 [00:02<00:00, 3580.95it/s]\n",
      "100%|██████████| 832/832 [00:00<00:00, 3928.92it/s]\n",
      "100%|██████████| 3242/3242 [00:01<00:00, 3044.48it/s]\n",
      "100%|██████████| 1012/1012 [00:00<00:00, 3766.53it/s]\n",
      "100%|██████████| 624/624 [00:00<00:00, 4035.26it/s]\n",
      "100%|██████████| 6193/6193 [00:01<00:00, 3250.76it/s]\n",
      "100%|██████████| 387/387 [00:00<00:00, 4607.31it/s]\n",
      "100%|██████████| 1738/1738 [00:00<00:00, 3118.08it/s]\n",
      "100%|██████████| 3605/3605 [00:01<00:00, 3356.10it/s]\n",
      "100%|██████████| 8884/8884 [00:02<00:00, 3340.28it/s]\n",
      "100%|██████████| 382/382 [00:00<00:00, 4077.31it/s]\n",
      "100%|██████████| 1502/1502 [00:00<00:00, 3403.69it/s]\n",
      "100%|██████████| 752/752 [00:00<00:00, 4071.11it/s]\n",
      "100%|██████████| 522/522 [00:00<00:00, 2712.69it/s]\n",
      "100%|██████████| 1132/1132 [00:00<00:00, 3697.68it/s]\n",
      "100%|██████████| 8728/8728 [00:02<00:00, 3332.27it/s]\n",
      "100%|██████████| 739/739 [00:00<00:00, 3046.86it/s]\n",
      "100%|██████████| 681/681 [00:00<00:00, 4053.72it/s]\n",
      "100%|██████████| 736/736 [00:00<00:00, 3158.39it/s]\n",
      "100%|██████████| 1114/1114 [00:00<00:00, 3418.83it/s]\n",
      "100%|██████████| 679/679 [00:00<00:00, 3654.90it/s]\n",
      "100%|██████████| 1069/1069 [00:00<00:00, 3297.82it/s]\n",
      "100%|██████████| 6162/6162 [00:01<00:00, 3378.99it/s]\n",
      "100%|██████████| 642/642 [00:00<00:00, 3870.08it/s]\n",
      "100%|██████████| 736/736 [00:00<00:00, 3445.42it/s]\n",
      "100%|██████████| 1648/1648 [00:00<00:00, 3568.02it/s]\n",
      "100%|██████████| 399/399 [00:00<00:00, 3150.67it/s]\n",
      "100%|██████████| 6175/6175 [00:01<00:00, 3650.55it/s]\n",
      "100%|██████████| 1246/1246 [00:00<00:00, 3217.43it/s]\n",
      "100%|██████████| 987/987 [00:00<00:00, 3548.02it/s]\n",
      "100%|██████████| 704/704 [00:00<00:00, 3631.63it/s]\n",
      "100%|██████████| 4410/4410 [00:01<00:00, 3445.30it/s]\n",
      "100%|██████████| 665/665 [00:00<00:00, 3492.88it/s]\n",
      "100%|██████████| 1648/1648 [00:00<00:00, 3693.68it/s]\n",
      "100%|██████████| 1393/1393 [00:00<00:00, 3134.48it/s]\n",
      "100%|██████████| 1889/1889 [00:00<00:00, 3294.53it/s]\n"
     ]
    }
   ],
   "source": [
    "Raw_DIR= r'/Users/thispc/Development/Driver-Drowsiness-Detection-using-Deep-Learning-main/mrlEyes_2018_01'\n",
    "for dirpath, dirname, filenames in os.walk(Raw_DIR):\n",
    "    for i in tqdm([f for f in filenames if f.endswith('.png')]):\n",
    "        if i.split('_')[4]=='0':\n",
    "            shutil.copy(src=dirpath+'/'+i, dst=r'/Users/thispc/Development/Driver-Drowsiness-Detection-using-Deep-Learning-main/Prepared_Data/ClosedEyes')\n",
    "        \n",
    "        elif i.split('_')[4]=='1':\n",
    "            shutil.copy(src=dirpath+'/'+i, dst=r'/Users/thispc/Development/Driver-Drowsiness-Detection-using-Deep-Learning-main/Prepared_Data/OpenEyes')\n"
   ]
  },
  {
   "cell_type": "code",
   "execution_count": null,
   "metadata": {},
   "outputs": [],
   "source": []
  },
  {
   "cell_type": "code",
   "execution_count": null,
   "metadata": {},
   "outputs": [],
   "source": []
  }
 ],
 "metadata": {
  "kernelspec": {
   "display_name": "Python 3",
   "language": "python",
   "name": "python3"
  },
  "language_info": {
   "codemirror_mode": {
    "name": "ipython",
    "version": 3
   },
   "file_extension": ".py",
   "mimetype": "text/x-python",
   "name": "python",
   "nbconvert_exporter": "python",
   "pygments_lexer": "ipython3",
   "version": "3.12.2"
  }
 },
 "nbformat": 4,
 "nbformat_minor": 4
}
